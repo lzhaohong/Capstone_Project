{
 "cells": [
  {
   "cell_type": "code",
   "execution_count": 1,
   "id": "31eb9cd6",
   "metadata": {},
   "outputs": [
    {
     "name": "stdout",
     "output_type": "stream",
     "text": [
      "Requirement already satisfied: ultralyticsplus in c:\\users\\admin\\anaconda3\\envs\\sdaai\\lib\\site-packages (0.0.28)\n",
      "Requirement already satisfied: huggingface-hub>=0.12.0 in c:\\users\\admin\\anaconda3\\envs\\sdaai\\lib\\site-packages (from ultralyticsplus) (0.13.3)\n",
      "Requirement already satisfied: ultralytics<8.0.44,>=8.0.43 in c:\\users\\admin\\anaconda3\\envs\\sdaai\\lib\\site-packages (from ultralyticsplus) (8.0.43)\n",
      "Requirement already satisfied: fire in c:\\users\\admin\\anaconda3\\envs\\sdaai\\lib\\site-packages (from ultralyticsplus) (0.5.0)\n",
      "Requirement already satisfied: sahi<0.12.0,>=0.11.11 in c:\\users\\admin\\anaconda3\\envs\\sdaai\\lib\\site-packages (from ultralyticsplus) (0.11.13)\n",
      "Requirement already satisfied: pandas in c:\\users\\admin\\anaconda3\\envs\\sdaai\\lib\\site-packages (from ultralyticsplus) (1.4.3)\n",
      "Requirement already satisfied: pyyaml>=5.1 in c:\\users\\admin\\anaconda3\\envs\\sdaai\\lib\\site-packages (from huggingface-hub>=0.12.0->ultralyticsplus) (6.0)\n",
      "Requirement already satisfied: filelock in c:\\users\\admin\\anaconda3\\envs\\sdaai\\lib\\site-packages (from huggingface-hub>=0.12.0->ultralyticsplus) (3.10.7)\n",
      "Requirement already satisfied: requests in c:\\users\\admin\\anaconda3\\envs\\sdaai\\lib\\site-packages (from huggingface-hub>=0.12.0->ultralyticsplus) (2.28.1)\n",
      "Requirement already satisfied: typing-extensions>=3.7.4.3 in c:\\users\\admin\\anaconda3\\envs\\sdaai\\lib\\site-packages (from huggingface-hub>=0.12.0->ultralyticsplus) (4.3.0)\n",
      "Requirement already satisfied: tqdm>=4.42.1 in c:\\users\\admin\\anaconda3\\envs\\sdaai\\lib\\site-packages (from huggingface-hub>=0.12.0->ultralyticsplus) (4.65.0)\n",
      "Requirement already satisfied: packaging>=20.9 in c:\\users\\admin\\anaconda3\\envs\\sdaai\\lib\\site-packages (from huggingface-hub>=0.12.0->ultralyticsplus) (21.3)\n",
      "Requirement already satisfied: pillow>=8.2.0 in c:\\users\\admin\\anaconda3\\envs\\sdaai\\lib\\site-packages (from sahi<0.12.0,>=0.11.11->ultralyticsplus) (9.2.0)\n",
      "Requirement already satisfied: terminaltables in c:\\users\\admin\\anaconda3\\envs\\sdaai\\lib\\site-packages (from sahi<0.12.0,>=0.11.11->ultralyticsplus) (3.1.10)\n",
      "Requirement already satisfied: pybboxes==0.1.6 in c:\\users\\admin\\anaconda3\\envs\\sdaai\\lib\\site-packages (from sahi<0.12.0,>=0.11.11->ultralyticsplus) (0.1.6)\n",
      "Requirement already satisfied: opencv-python>=4.2.0.32 in c:\\users\\admin\\anaconda3\\envs\\sdaai\\lib\\site-packages (from sahi<0.12.0,>=0.11.11->ultralyticsplus) (4.6.0.66)\n",
      "Requirement already satisfied: click==8.0.4 in c:\\users\\admin\\anaconda3\\envs\\sdaai\\lib\\site-packages (from sahi<0.12.0,>=0.11.11->ultralyticsplus) (8.0.4)\n",
      "Requirement already satisfied: shapely>=1.8.0 in c:\\users\\admin\\anaconda3\\envs\\sdaai\\lib\\site-packages (from sahi<0.12.0,>=0.11.11->ultralyticsplus) (2.0.1)\n",
      "Requirement already satisfied: colorama in c:\\users\\admin\\anaconda3\\envs\\sdaai\\lib\\site-packages (from click==8.0.4->sahi<0.12.0,>=0.11.11->ultralyticsplus) (0.4.5)\n",
      "Requirement already satisfied: numpy in c:\\users\\admin\\anaconda3\\envs\\sdaai\\lib\\site-packages (from pybboxes==0.1.6->sahi<0.12.0,>=0.11.11->ultralyticsplus) (1.23.1)\n",
      "Requirement already satisfied: scipy>=1.4.1 in c:\\users\\admin\\anaconda3\\envs\\sdaai\\lib\\site-packages (from ultralytics<8.0.44,>=8.0.43->ultralyticsplus) (1.8.1)\n",
      "Requirement already satisfied: torch>=1.7.0 in c:\\users\\admin\\anaconda3\\envs\\sdaai\\lib\\site-packages (from ultralytics<8.0.44,>=8.0.43->ultralyticsplus) (2.0.0)\n",
      "Requirement already satisfied: psutil in c:\\users\\admin\\anaconda3\\envs\\sdaai\\lib\\site-packages (from ultralytics<8.0.44,>=8.0.43->ultralyticsplus) (5.9.1)\n",
      "Requirement already satisfied: tensorboard>=2.4.1 in c:\\users\\admin\\anaconda3\\envs\\sdaai\\lib\\site-packages (from ultralytics<8.0.44,>=8.0.43->ultralyticsplus) (2.9.1)\n",
      "Requirement already satisfied: thop>=0.1.1 in c:\\users\\admin\\anaconda3\\envs\\sdaai\\lib\\site-packages (from ultralytics<8.0.44,>=8.0.43->ultralyticsplus) (0.1.1.post2209072238)\n",
      "Requirement already satisfied: wheel>=0.38.0 in c:\\users\\admin\\anaconda3\\envs\\sdaai\\lib\\site-packages (from ultralytics<8.0.44,>=8.0.43->ultralyticsplus) (0.40.0)\n",
      "Requirement already satisfied: torchvision>=0.8.1 in c:\\users\\admin\\anaconda3\\envs\\sdaai\\lib\\site-packages (from ultralytics<8.0.44,>=8.0.43->ultralyticsplus) (0.15.1)\n",
      "Requirement already satisfied: sentry-sdk in c:\\users\\admin\\anaconda3\\envs\\sdaai\\lib\\site-packages (from ultralytics<8.0.44,>=8.0.43->ultralyticsplus) (1.19.0)\n",
      "Requirement already satisfied: seaborn>=0.11.0 in c:\\users\\admin\\anaconda3\\envs\\sdaai\\lib\\site-packages (from ultralytics<8.0.44,>=8.0.43->ultralyticsplus) (0.11.2)\n",
      "Requirement already satisfied: matplotlib>=3.2.2 in c:\\users\\admin\\anaconda3\\envs\\sdaai\\lib\\site-packages (from ultralytics<8.0.44,>=8.0.43->ultralyticsplus) (3.5.2)\n",
      "Requirement already satisfied: python-dateutil>=2.8.1 in c:\\users\\admin\\anaconda3\\envs\\sdaai\\lib\\site-packages (from pandas->ultralyticsplus) (2.8.2)\n",
      "Requirement already satisfied: pytz>=2020.1 in c:\\users\\admin\\anaconda3\\envs\\sdaai\\lib\\site-packages (from pandas->ultralyticsplus) (2022.1)\n",
      "Requirement already satisfied: six in c:\\users\\admin\\anaconda3\\envs\\sdaai\\lib\\site-packages (from fire->ultralyticsplus) (1.16.0)\n",
      "Requirement already satisfied: termcolor in c:\\users\\admin\\anaconda3\\envs\\sdaai\\lib\\site-packages (from fire->ultralyticsplus) (1.1.0)\n",
      "Requirement already satisfied: cycler>=0.10 in c:\\users\\admin\\anaconda3\\envs\\sdaai\\lib\\site-packages (from matplotlib>=3.2.2->ultralytics<8.0.44,>=8.0.43->ultralyticsplus) (0.11.0)\n",
      "Requirement already satisfied: kiwisolver>=1.0.1 in c:\\users\\admin\\anaconda3\\envs\\sdaai\\lib\\site-packages (from matplotlib>=3.2.2->ultralytics<8.0.44,>=8.0.43->ultralyticsplus) (1.4.3)\n",
      "Requirement already satisfied: fonttools>=4.22.0 in c:\\users\\admin\\anaconda3\\envs\\sdaai\\lib\\site-packages (from matplotlib>=3.2.2->ultralytics<8.0.44,>=8.0.43->ultralyticsplus) (4.34.4)\n",
      "Requirement already satisfied: pyparsing>=2.2.1 in c:\\users\\admin\\anaconda3\\envs\\sdaai\\lib\\site-packages (from matplotlib>=3.2.2->ultralytics<8.0.44,>=8.0.43->ultralyticsplus) (3.0.9)\n",
      "Requirement already satisfied: certifi>=2017.4.17 in c:\\users\\admin\\anaconda3\\envs\\sdaai\\lib\\site-packages (from requests->huggingface-hub>=0.12.0->ultralyticsplus) (2022.6.15)\n",
      "Requirement already satisfied: urllib3<1.27,>=1.21.1 in c:\\users\\admin\\anaconda3\\envs\\sdaai\\lib\\site-packages (from requests->huggingface-hub>=0.12.0->ultralyticsplus) (1.26.15)\n",
      "Requirement already satisfied: idna<4,>=2.5 in c:\\users\\admin\\anaconda3\\envs\\sdaai\\lib\\site-packages (from requests->huggingface-hub>=0.12.0->ultralyticsplus) (3.3)\n",
      "Requirement already satisfied: charset-normalizer<3,>=2 in c:\\users\\admin\\anaconda3\\envs\\sdaai\\lib\\site-packages (from requests->huggingface-hub>=0.12.0->ultralyticsplus) (2.1.0)\n",
      "Requirement already satisfied: absl-py>=0.4 in c:\\users\\admin\\anaconda3\\envs\\sdaai\\lib\\site-packages (from tensorboard>=2.4.1->ultralytics<8.0.44,>=8.0.43->ultralyticsplus) (1.1.0)\n",
      "Requirement already satisfied: google-auth<3,>=1.6.3 in c:\\users\\admin\\anaconda3\\envs\\sdaai\\lib\\site-packages (from tensorboard>=2.4.1->ultralytics<8.0.44,>=8.0.43->ultralyticsplus) (2.17.1)\n",
      "Requirement already satisfied: tensorboard-data-server<0.7.0,>=0.6.0 in c:\\users\\admin\\anaconda3\\envs\\sdaai\\lib\\site-packages (from tensorboard>=2.4.1->ultralytics<8.0.44,>=8.0.43->ultralyticsplus) (0.6.1)\n",
      "Requirement already satisfied: markdown>=2.6.8 in c:\\users\\admin\\anaconda3\\envs\\sdaai\\lib\\site-packages (from tensorboard>=2.4.1->ultralytics<8.0.44,>=8.0.43->ultralyticsplus) (3.3.7)\n",
      "Requirement already satisfied: tensorboard-plugin-wit>=1.6.0 in c:\\users\\admin\\anaconda3\\envs\\sdaai\\lib\\site-packages (from tensorboard>=2.4.1->ultralytics<8.0.44,>=8.0.43->ultralyticsplus) (1.8.1)\n",
      "Requirement already satisfied: werkzeug>=1.0.1 in c:\\users\\admin\\anaconda3\\envs\\sdaai\\lib\\site-packages (from tensorboard>=2.4.1->ultralytics<8.0.44,>=8.0.43->ultralyticsplus) (2.1.2)\n",
      "Requirement already satisfied: grpcio>=1.24.3 in c:\\users\\admin\\anaconda3\\envs\\sdaai\\lib\\site-packages (from tensorboard>=2.4.1->ultralytics<8.0.44,>=8.0.43->ultralyticsplus) (1.47.0)\n",
      "Requirement already satisfied: google-auth-oauthlib<0.5,>=0.4.1 in c:\\users\\admin\\anaconda3\\envs\\sdaai\\lib\\site-packages (from tensorboard>=2.4.1->ultralytics<8.0.44,>=8.0.43->ultralyticsplus) (0.4.6)\n",
      "Requirement already satisfied: setuptools>=41.0.0 in c:\\users\\admin\\anaconda3\\envs\\sdaai\\lib\\site-packages (from tensorboard>=2.4.1->ultralytics<8.0.44,>=8.0.43->ultralyticsplus) (67.6.1)\n",
      "Requirement already satisfied: protobuf<3.20,>=3.9.2 in c:\\users\\admin\\anaconda3\\envs\\sdaai\\lib\\site-packages (from tensorboard>=2.4.1->ultralytics<8.0.44,>=8.0.43->ultralyticsplus) (3.19.6)\n",
      "Requirement already satisfied: networkx in c:\\users\\admin\\anaconda3\\envs\\sdaai\\lib\\site-packages (from torch>=1.7.0->ultralytics<8.0.44,>=8.0.43->ultralyticsplus) (3.1)\n",
      "Requirement already satisfied: jinja2 in c:\\users\\admin\\anaconda3\\envs\\sdaai\\lib\\site-packages (from torch>=1.7.0->ultralytics<8.0.44,>=8.0.43->ultralyticsplus) (3.1.2)\n",
      "Requirement already satisfied: sympy in c:\\users\\admin\\anaconda3\\envs\\sdaai\\lib\\site-packages (from torch>=1.7.0->ultralytics<8.0.44,>=8.0.43->ultralyticsplus) (1.11.1)\n",
      "Requirement already satisfied: cachetools<6.0,>=2.0.0 in c:\\users\\admin\\anaconda3\\envs\\sdaai\\lib\\site-packages (from google-auth<3,>=1.6.3->tensorboard>=2.4.1->ultralytics<8.0.44,>=8.0.43->ultralyticsplus) (5.2.0)\n",
      "Requirement already satisfied: rsa<5,>=3.1.4 in c:\\users\\admin\\anaconda3\\envs\\sdaai\\lib\\site-packages (from google-auth<3,>=1.6.3->tensorboard>=2.4.1->ultralytics<8.0.44,>=8.0.43->ultralyticsplus) (4.8)\n",
      "Requirement already satisfied: pyasn1-modules>=0.2.1 in c:\\users\\admin\\anaconda3\\envs\\sdaai\\lib\\site-packages (from google-auth<3,>=1.6.3->tensorboard>=2.4.1->ultralytics<8.0.44,>=8.0.43->ultralyticsplus) (0.2.8)\n",
      "Requirement already satisfied: requests-oauthlib>=0.7.0 in c:\\users\\admin\\anaconda3\\envs\\sdaai\\lib\\site-packages (from google-auth-oauthlib<0.5,>=0.4.1->tensorboard>=2.4.1->ultralytics<8.0.44,>=8.0.43->ultralyticsplus) (1.3.1)\n",
      "Requirement already satisfied: importlib-metadata>=4.4 in c:\\users\\admin\\anaconda3\\envs\\sdaai\\lib\\site-packages (from markdown>=2.6.8->tensorboard>=2.4.1->ultralytics<8.0.44,>=8.0.43->ultralyticsplus) (4.12.0)\n",
      "Requirement already satisfied: MarkupSafe>=2.0 in c:\\users\\admin\\anaconda3\\envs\\sdaai\\lib\\site-packages (from jinja2->torch>=1.7.0->ultralytics<8.0.44,>=8.0.43->ultralyticsplus) (2.1.1)\n",
      "Requirement already satisfied: mpmath>=0.19 in c:\\users\\admin\\anaconda3\\envs\\sdaai\\lib\\site-packages (from sympy->torch>=1.7.0->ultralytics<8.0.44,>=8.0.43->ultralyticsplus) (1.3.0)\n",
      "Requirement already satisfied: zipp>=0.5 in c:\\users\\admin\\anaconda3\\envs\\sdaai\\lib\\site-packages (from importlib-metadata>=4.4->markdown>=2.6.8->tensorboard>=2.4.1->ultralytics<8.0.44,>=8.0.43->ultralyticsplus) (3.8.1)\n",
      "Requirement already satisfied: pyasn1<0.5.0,>=0.4.6 in c:\\users\\admin\\anaconda3\\envs\\sdaai\\lib\\site-packages (from pyasn1-modules>=0.2.1->google-auth<3,>=1.6.3->tensorboard>=2.4.1->ultralytics<8.0.44,>=8.0.43->ultralyticsplus) (0.4.8)\n",
      "Requirement already satisfied: oauthlib>=3.0.0 in c:\\users\\admin\\anaconda3\\envs\\sdaai\\lib\\site-packages (from requests-oauthlib>=0.7.0->google-auth-oauthlib<0.5,>=0.4.1->tensorboard>=2.4.1->ultralytics<8.0.44,>=8.0.43->ultralyticsplus) (3.2.0)\n",
      "Requirement already satisfied: opencv-python in c:\\users\\admin\\anaconda3\\envs\\sdaai\\lib\\site-packages (4.6.0.66)\n",
      "Requirement already satisfied: numpy>=1.17.3 in c:\\users\\admin\\anaconda3\\envs\\sdaai\\lib\\site-packages (from opencv-python) (1.23.1)\n"
     ]
    }
   ],
   "source": [
    "!pip install ultralyticsplus\n",
    "!pip install opencv-python"
   ]
  },
  {
   "cell_type": "code",
   "execution_count": 2,
   "id": "9947214f",
   "metadata": {},
   "outputs": [],
   "source": [
    "from ultralyticsplus import YOLO, render_result\n",
    "import cv2\n",
    "from PIL import Image\n",
    "\n",
    "from cv2 import imshow\n",
    "from cv2 import imwrite"
   ]
  },
  {
   "cell_type": "code",
   "execution_count": 3,
   "id": "ec61d183",
   "metadata": {},
   "outputs": [],
   "source": [
    "# set image\n",
    "#image = 'https://github.com/ultralytics/yolov5/raw/master/data/images/zidane.jpg'\n",
    "\n",
    "    \n",
    "def PPE(image):\n",
    "    # load model\n",
    "    #model = YOLO('keremberke/yolov8m-protective-equipment-detection')\n",
    "    model = YOLO('keremberke/yolov8m-hard-hat-detection')\n",
    "    # set model parameters\n",
    "    model.overrides['conf'] = 0.25  # NMS confidence threshold\n",
    "    model.overrides['iou'] = 0.45  # NMS IoU threshold\n",
    "    model.overrides['agnostic_nms'] = False  # NMS class-agnostic\n",
    "    model.overrides['max_det'] = 1000  # maximum number of detections per image\n",
    "\n",
    "\n",
    "\n",
    "    # perform inference\n",
    "    results = model.predict(image)\n",
    "\n",
    "    # observe results\n",
    "    print(results[0].boxes)\n",
    "    render = render_result(model=model, image=image, result=results[0])\n",
    "    render.show()"
   ]
  },
  {
   "cell_type": "code",
   "execution_count": 4,
   "id": "4825c907",
   "metadata": {},
   "outputs": [],
   "source": [
    "def take_photo(image='photo.jpg', quality=0.8):\n",
    "\n",
    "    # program to capture single image from webcam in python\n",
    "  \n",
    "    # importing OpenCV library\n",
    "    from cv2 import imshow\n",
    "    from cv2 import imwrite\n",
    "  \n",
    "    # initialize the camera\n",
    "    # If you have multiple camera connected with \n",
    "    # current device, assign a value in cam_port \n",
    "    # variable according to that\n",
    "    cam_port = 0\n",
    "    cam = cv2.VideoCapture(cam_port)\n",
    "  \n",
    "    # reading the input using the camera\n",
    "    result, image = cam.read()\n",
    "  \n",
    "    # If image will detected without any error, \n",
    "    # show result\n",
    "    if result:\n",
    "  \n",
    "    # showing result, it take frame name and image \n",
    "    # output\n",
    "        imshow(\"photo.jpg\", image)\n",
    "  \n",
    "    # saving image in local storage\n",
    "        imwrite(\"photo.jpg\", image)\n",
    "  \n",
    "    # If keyboard interrupt occurs, destroy image \n",
    "    # window\n",
    "        cv2.waitKey(0)\n",
    "        cv2.destroyAllWindows()\n",
    "#        cv2.destroyWindow(\"photo.jpg\")\n",
    "\n",
    "  \n",
    "# If captured image is corrupted, moving to else part\n",
    "    else:\n",
    "        print(\"No image detected. Please! try again\")\n",
    "       \n",
    "        \n",
    "  #with open(filename, 'wb') as f:\n",
    "  #  f.write(binary)\n",
    "    return image\n",
    "\n"
   ]
  },
  {
   "cell_type": "code",
   "execution_count": 5,
   "id": "74ed6dea",
   "metadata": {},
   "outputs": [
    {
     "data": {
      "text/plain": [
       "array([[[145, 171, 177],\n",
       "        [147, 173, 179],\n",
       "        [146, 172, 178],\n",
       "        ...,\n",
       "        [211, 226, 235],\n",
       "        [211, 226, 235],\n",
       "        [211, 226, 235]],\n",
       "\n",
       "       [[144, 170, 176],\n",
       "        [146, 172, 178],\n",
       "        [147, 173, 179],\n",
       "        ...,\n",
       "        [211, 226, 235],\n",
       "        [212, 227, 236],\n",
       "        [212, 227, 236]],\n",
       "\n",
       "       [[144, 170, 176],\n",
       "        [146, 172, 178],\n",
       "        [148, 174, 180],\n",
       "        ...,\n",
       "        [211, 227, 236],\n",
       "        [211, 227, 236],\n",
       "        [212, 228, 237]],\n",
       "\n",
       "       ...,\n",
       "\n",
       "       [[ 38,  32,  46],\n",
       "        [ 16,  12,  27],\n",
       "        [ 12,  10,  26],\n",
       "        ...,\n",
       "        [160, 131, 136],\n",
       "        [160, 132, 136],\n",
       "        [160, 133, 137]],\n",
       "\n",
       "       [[ 32,  28,  37],\n",
       "        [ 13,  10,  20],\n",
       "        [ 11,  10,  22],\n",
       "        ...,\n",
       "        [161, 132, 137],\n",
       "        [161, 133, 137],\n",
       "        [160, 133, 137]],\n",
       "\n",
       "       [[ 31,  27,  33],\n",
       "        [ 15,  11,  19],\n",
       "        [ 10,   9,  19],\n",
       "        ...,\n",
       "        [163, 134, 139],\n",
       "        [163, 135, 139],\n",
       "        [162, 135, 139]]], dtype=uint8)"
      ]
     },
     "execution_count": 5,
     "metadata": {},
     "output_type": "execute_result"
    }
   ],
   "source": [
    "take_photo()"
   ]
  },
  {
   "cell_type": "code",
   "execution_count": 6,
   "id": "aed2840e",
   "metadata": {},
   "outputs": [],
   "source": [
    "#image = \"photo.jpg\"\n",
    "#image = 'https://github.com/ultralytics/yolov5/raw/master/data/images/zidane.jpg'\n",
    "\n",
    "\n",
    "from PIL import Image\n",
    "\n",
    "#read the image\n",
    "image = Image.open(\"photo.jpg\")\n",
    "\n",
    "#show image\n",
    "#image.show()"
   ]
  },
  {
   "cell_type": "code",
   "execution_count": 7,
   "id": "7bc22e4a",
   "metadata": {},
   "outputs": [
    {
     "name": "stderr",
     "output_type": "stream",
     "text": [
      "Ultralytics YOLOv8.0.43  Python-3.8.13 torch-2.0.0+cpu CPU\n",
      "Model summary (fused): 218 layers, 25840918 parameters, 0 gradients, 78.7 GFLOPs\n",
      "\n",
      "0: 480x640 2 NO-Hardhats, 300.1ms\n",
      "Speed: 0.0ms preprocess, 300.1ms inference, 2.0ms postprocess per image at shape (1, 3, 640, 640)\n"
     ]
    },
    {
     "name": "stdout",
     "output_type": "stream",
     "text": [
      "tensor([[3.27000e+02, 8.10000e+01, 5.66000e+02, 3.99000e+02, 6.09119e-01, 1.00000e+00],\n",
      "        [1.56000e+02, 0.00000e+00, 5.71000e+02, 4.80000e+02, 4.12398e-01, 1.00000e+00]])\n"
     ]
    }
   ],
   "source": [
    "PPE(image)"
   ]
  },
  {
   "cell_type": "code",
   "execution_count": null,
   "id": "374147f7",
   "metadata": {},
   "outputs": [],
   "source": []
  }
 ],
 "metadata": {
  "kernelspec": {
   "display_name": "Python 3 (ipykernel)",
   "language": "python",
   "name": "python3"
  },
  "language_info": {
   "codemirror_mode": {
    "name": "ipython",
    "version": 3
   },
   "file_extension": ".py",
   "mimetype": "text/x-python",
   "name": "python",
   "nbconvert_exporter": "python",
   "pygments_lexer": "ipython3",
   "version": "3.8.13"
  }
 },
 "nbformat": 4,
 "nbformat_minor": 5
}
